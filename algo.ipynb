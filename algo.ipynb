from libpysal import weights, examples
from contextily import add_basemap
import matplotlib.pyplot as plt
import networkx as nx
import numpy as np
import geopandas
import pandas as pd
import fiona
from shapely.geometry import Point
from shapely.geometry import Polygon
from shapely.geometry import LineString
import json
import csv
import geojson

cases = geopandas.read_file("hexes.geojson")

with open("hexes.geojson") as f:
  gj = geojson.load(f)
features = gj['features']

# print(cases2)

json_obj = []

cases['centroid_column'] = cases.centroid
cases["NEIGHBORS"] = None  
# cases.set_index('id', inplace=True)

# print(cases)

# def checkForNeibours():

def checkSimilarities():
   return ''


def checkSide(geometry, index1, index2, firstPoint, secondPoint):
   return ''
         
  

def getObject(index):
   item = cases.iloc[index]
   # withoutItemDataFrame = geopandas.GeoDataFrame(cases, crs="EPSG:4326")
   # withoutItemDataFrame.drop(index, inplace=True)

   geometry = [
      {
         'side1': {
         'firstPoint': {
           "lat": features[index].geometry.coordinates[0][0][0],
           "lon": features[index].geometry.coordinates[0][0][1],
         },
         'secondPoint':  {
           "lat": features[index].geometry.coordinates[0][1][0],
           "lon": features[index].geometry.coordinates[0][1][1],
         },
         }
      },
      {
         'side2': {
         'firstPoint': {
           "lat": features[index].geometry.coordinates[0][1][0],
           "lon": features[index].geometry.coordinates[0][1][1],
         },
         'secondPoint':  {
           "lat": features[index].geometry.coordinates[0][2][0],
           "lon": features[index].geometry.coordinates[0][2][1],
         },
         }
      },
      {
         'side3': {
         'firstPoint': {
           "lat": features[index].geometry.coordinates[0][2][0],
           "lon": features[index].geometry.coordinates[0][2][1],
         },
         'secondPoint':  {
           "lat": features[index].geometry.coordinates[0][3][0],
           "lon": features[index].geometry.coordinates[0][3][1],
         },
         }
      },
      {
         'side4': {
         'firstPoint': {
           "lat": features[index].geometry.coordinates[0][3][0],
           "lon": features[index].geometry.coordinates[0][3][1],
         },
         'secondPoint':  {
           "lat": features[index].geometry.coordinates[0][4][0],
           "lon": features[index].geometry.coordinates[0][4][1],
         },
         }
      },
      {
         'side5': {
         'firstPoint': {
           "lat": features[index].geometry.coordinates[0][4][0],
           "lon": features[index].geometry.coordinates[0][4][1],
         },
         'secondPoint':  {
           "lat": features[index].geometry.coordinates[0][5][0],
           "lon": features[index].geometry.coordinates[0][5][1],
         },
         }
      },
      {
         'side6': {
         'firstPoint': {
           "lat": features[index].geometry.coordinates[0][5][0],
           "lon": features[index].geometry.coordinates[0][5][1],
         },
         'secondPoint':  {
           "lat": features[index].geometry.coordinates[0][6][0],
           "lon": features[index].geometry.coordinates[0][6][1],
         },
         }
      },
         
         
    ]
   

   neighbores = {
      "id1": '',
      "id2": '',
      "id3": '',
      "id4": '',
      "id5": '',
      "id6": '',
    }
   
   ids = cases['id']
   arr = []
   for ind, x in enumerate(ids):
       geoItem = cases.iloc[ind]
       for line in geometry:
          checkSide()
          
       

       
      
   # print(len(arr))
   
   return {
      'id0': item.id,
      'lat': item.centroid_column.x,
      'lon': item.centroid_column.y,
      "id1": neighbores['id1'],
      "id2": neighbores['id2'],
      "id3": neighbores['id3'],
      "id4": neighbores['id4'],
      "id5": neighbores['id5'],
      "id6": neighbores['id6'],
     
  }

casesIds = cases['id']
# print(len(casesIds))
for idx, x in enumerate(casesIds):
   json_obj.append(getObject(idx))
    
    
p3 = Polygon([(0, 4), (1, 3), (2, 4), (2, 5), (1, 6),(0,5), (0,4)])

json_obj[0]



