import geopandas

cases = geopandas.read_file("hexes_full.geojson")

json_obj = []

cases['centroid_column'] = cases.centroid
  

def getObject(index):
   item = cases.iloc[index]
   
   
   return {
      'id0': item.id,
      'lat': item.centroid_column.x,
      'lon': item.centroid_column.y,
       'characteristics': {
         
       }
  }

casesIds = cases['id']

for idx, x in enumerate(casesIds):
   json_obj.append(getObject(idx))
